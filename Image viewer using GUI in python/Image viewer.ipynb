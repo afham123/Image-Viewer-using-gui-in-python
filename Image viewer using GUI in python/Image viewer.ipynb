{
 "cells": [
  {
   "cell_type": "code",
   "execution_count": 2,
   "metadata": {},
   "outputs": [],
   "source": [
    "from tkinter import*\n",
    "from PIL import ImageTk,Image\n",
    "\n",
    "root=Tk()\n",
    "\n",
    "my_img1=ImageTk.PhotoImage(Image.open(\"Images/alin-rusu-Su.jpg\"))\n",
    "my_img2=ImageTk.PhotoImage(Image.open(\"Images/andre-benz.jpg\"))\n",
    "my_img3=ImageTk.PhotoImage(Image.open(\"Images/chris-becker-TndzopI.jpg\"))\n",
    "my_img4=ImageTk.PhotoImage(Image.open(\"Images/kevin-langlais.jpg\"))\n",
    "my_img5=ImageTk.PhotoImage(Image.open(\"Images/lucas-benjamin.jpg\"))\n",
    "my_img6=ImageTk.PhotoImage(Image.open(\"Images/mohamed-ahsan.jpg\"))\n",
    "my_img7=ImageTk.PhotoImage(Image.open(\"Images/tianshu-liu.jpg\"))\n",
    "my_img8=ImageTk.PhotoImage(Image.open(\"Images/trent-haaland.jpg\"))\n",
    "\n",
    "image_list=[my_img1,my_img2,my_img3,my_img4,my_img5,my_img6,my_img7,my_img8]\n",
    "cur=0\n",
    "\n",
    "def forward():\n",
    "    global cur\n",
    "    global my_label\n",
    "    global button_forward\n",
    "    global button_backward\n",
    "    if cur != 7:\n",
    "        cur+=1\n",
    "    my_label.grid_forget()\n",
    "    my_label=Label(image=image_list[cur])\n",
    "    my_label.grid(row=0,column=0,columnspan=3)\n",
    "        \n",
    "def backward():\n",
    "    global cur\n",
    "    global my_label\n",
    "    global button_forward\n",
    "    global button_backward\n",
    "    if cur != 0:\n",
    "        cur-=1\n",
    "    my_label.grid_forget()\n",
    "    my_label=Label(image=image_list[cur])\n",
    "    my_label.grid(row=0,column=0,columnspan=3)\n",
    "\n",
    "my_label=Label(image=image_list[cur])\n",
    "my_label.grid(row=0,column=0,columnspan=3)\n",
    "\n",
    "button_backward=Button(root,text=\"<<\",command=backward)\n",
    "button_exit=Button(root,text=\"Exit Program\",command=root.quit)\n",
    "button_forward=Button(root,text=\">>\",command=forward)\n",
    "\n",
    "button_backward.grid(row=1,column=0)\n",
    "button_exit.grid(row=1,column=1)\n",
    "button_forward.grid(row=1,column=2)\n",
    "\n",
    "root.mainloop()"
   ]
  }
 ],
 "metadata": {
  "kernelspec": {
   "display_name": "Python 3",
   "language": "python",
   "name": "python3"
  },
  "language_info": {
   "codemirror_mode": {
    "name": "ipython",
    "version": 3
   },
   "file_extension": ".py",
   "mimetype": "text/x-python",
   "name": "python",
   "nbconvert_exporter": "python",
   "pygments_lexer": "ipython3",
   "version": "3.7.6"
  }
 },
 "nbformat": 4,
 "nbformat_minor": 4
}
